{
 "cells": [
  {
   "cell_type": "markdown",
   "id": "ca2b7539",
   "metadata": {},
   "source": [
    "# Proyecto Integrador Procesamiento de Datos. \n",
    "\n",
    "Por Jose Leonardo Piñeres Ramirez"
   ]
  },
  {
   "cell_type": "code",
   "execution_count": 1,
   "id": "4e387d9f",
   "metadata": {
    "scrolled": false
   },
   "outputs": [
    {
     "name": "stdout",
     "output_type": "stream",
     "text": [
      "Requirement already satisfied: datasets in /Users/leonardopineres/anaconda3/lib/python3.10/site-packages (2.14.6)\n",
      "Requirement already satisfied: numpy>=1.17 in /Users/leonardopineres/anaconda3/lib/python3.10/site-packages (from datasets) (1.23.5)\n",
      "Requirement already satisfied: pyarrow>=8.0.0 in /Users/leonardopineres/anaconda3/lib/python3.10/site-packages (from datasets) (14.0.0)\n",
      "Requirement already satisfied: dill<0.3.8,>=0.3.0 in /Users/leonardopineres/anaconda3/lib/python3.10/site-packages (from datasets) (0.3.7)\n",
      "Requirement already satisfied: pandas in /Users/leonardopineres/anaconda3/lib/python3.10/site-packages (from datasets) (1.5.3)\n",
      "Requirement already satisfied: requests>=2.19.0 in /Users/leonardopineres/anaconda3/lib/python3.10/site-packages (from datasets) (2.28.1)\n",
      "Requirement already satisfied: tqdm>=4.62.1 in /Users/leonardopineres/anaconda3/lib/python3.10/site-packages (from datasets) (4.64.1)\n",
      "Requirement already satisfied: xxhash in /Users/leonardopineres/anaconda3/lib/python3.10/site-packages (from datasets) (3.4.1)\n",
      "Requirement already satisfied: multiprocess in /Users/leonardopineres/anaconda3/lib/python3.10/site-packages (from datasets) (0.70.15)\n",
      "Requirement already satisfied: fsspec<=2023.10.0,>=2023.1.0 in /Users/leonardopineres/anaconda3/lib/python3.10/site-packages (from fsspec[http]<=2023.10.0,>=2023.1.0->datasets) (2023.10.0)\n",
      "Requirement already satisfied: aiohttp in /Users/leonardopineres/anaconda3/lib/python3.10/site-packages (from datasets) (3.8.6)\n",
      "Requirement already satisfied: huggingface-hub<1.0.0,>=0.14.0 in /Users/leonardopineres/anaconda3/lib/python3.10/site-packages (from datasets) (0.18.0)\n",
      "Requirement already satisfied: packaging in /Users/leonardopineres/anaconda3/lib/python3.10/site-packages (from datasets) (23.2)\n",
      "Requirement already satisfied: pyyaml>=5.1 in /Users/leonardopineres/anaconda3/lib/python3.10/site-packages (from datasets) (6.0)\n",
      "Requirement already satisfied: attrs>=17.3.0 in /Users/leonardopineres/anaconda3/lib/python3.10/site-packages (from aiohttp->datasets) (22.1.0)\n",
      "Requirement already satisfied: charset-normalizer<4.0,>=2.0 in /Users/leonardopineres/anaconda3/lib/python3.10/site-packages (from aiohttp->datasets) (2.0.4)\n",
      "Requirement already satisfied: multidict<7.0,>=4.5 in /Users/leonardopineres/anaconda3/lib/python3.10/site-packages (from aiohttp->datasets) (6.0.4)\n",
      "Requirement already satisfied: async-timeout<5.0,>=4.0.0a3 in /Users/leonardopineres/anaconda3/lib/python3.10/site-packages (from aiohttp->datasets) (4.0.3)\n",
      "Requirement already satisfied: yarl<2.0,>=1.0 in /Users/leonardopineres/anaconda3/lib/python3.10/site-packages (from aiohttp->datasets) (1.9.2)\n",
      "Requirement already satisfied: frozenlist>=1.1.1 in /Users/leonardopineres/anaconda3/lib/python3.10/site-packages (from aiohttp->datasets) (1.4.0)\n",
      "Requirement already satisfied: aiosignal>=1.1.2 in /Users/leonardopineres/anaconda3/lib/python3.10/site-packages (from aiohttp->datasets) (1.3.1)\n",
      "Requirement already satisfied: filelock in /Users/leonardopineres/anaconda3/lib/python3.10/site-packages (from huggingface-hub<1.0.0,>=0.14.0->datasets) (3.9.0)\n",
      "Requirement already satisfied: typing-extensions>=3.7.4.3 in /Users/leonardopineres/anaconda3/lib/python3.10/site-packages (from huggingface-hub<1.0.0,>=0.14.0->datasets) (4.7.1)\n",
      "Requirement already satisfied: idna<4,>=2.5 in /Users/leonardopineres/anaconda3/lib/python3.10/site-packages (from requests>=2.19.0->datasets) (3.4)\n",
      "Requirement already satisfied: urllib3<1.27,>=1.21.1 in /Users/leonardopineres/anaconda3/lib/python3.10/site-packages (from requests>=2.19.0->datasets) (1.26.14)\n",
      "Requirement already satisfied: certifi>=2017.4.17 in /Users/leonardopineres/anaconda3/lib/python3.10/site-packages (from requests>=2.19.0->datasets) (2023.5.7)\n",
      "Requirement already satisfied: python-dateutil>=2.8.1 in /Users/leonardopineres/anaconda3/lib/python3.10/site-packages (from pandas->datasets) (2.8.2)\n",
      "Requirement already satisfied: pytz>=2020.1 in /Users/leonardopineres/anaconda3/lib/python3.10/site-packages (from pandas->datasets) (2023.3)\n",
      "Requirement already satisfied: six>=1.5 in /Users/leonardopineres/anaconda3/lib/python3.10/site-packages (from python-dateutil>=2.8.1->pandas->datasets) (1.16.0)\n",
      "\u001b[33mWARNING: There was an error checking the latest version of pip.\u001b[0m\u001b[33m\n",
      "\u001b[0mNote: you may need to restart the kernel to use updated packages.\n"
     ]
    }
   ],
   "source": [
    "pip install datasets\n"
   ]
  },
  {
   "cell_type": "code",
   "execution_count": null,
   "id": "f7a7f6c9",
   "metadata": {},
   "outputs": [],
   "source": [
    "import numpy as np"
   ]
  },
  {
   "cell_type": "code",
   "execution_count": 24,
   "id": "dbf8a0b0",
   "metadata": {},
   "outputs": [],
   "source": [
    "from datasets import load_dataset\n",
    "\n",
    "dataset = load_dataset(\"mstz/heart_failure\")"
   ]
  },
  {
   "cell_type": "code",
   "execution_count": 25,
   "id": "19a88f98",
   "metadata": {},
   "outputs": [
    {
     "data": {
      "text/plain": [
       "DatasetDict({\n",
       "    train: Dataset({\n",
       "        features: ['age', 'has_anaemia', 'creatinine_phosphokinase_concentration_in_blood', 'has_diabetes', 'heart_ejection_fraction', 'has_high_blood_pressure', 'platelets_concentration_in_blood', 'serum_creatinine_concentration_in_blood', 'serum_sodium_concentration_in_blood', 'is_male', 'is_smoker', 'days_in_study', 'is_dead'],\n",
       "        num_rows: 299\n",
       "    })\n",
       "})"
      ]
     },
     "execution_count": 25,
     "metadata": {},
     "output_type": "execute_result"
    }
   ],
   "source": [
    "dataset"
   ]
  },
  {
   "cell_type": "code",
   "execution_count": 26,
   "id": "4f9ec04c",
   "metadata": {},
   "outputs": [
    {
     "data": {
      "text/plain": [
       "Dataset({\n",
       "    features: ['age', 'has_anaemia', 'creatinine_phosphokinase_concentration_in_blood', 'has_diabetes', 'heart_ejection_fraction', 'has_high_blood_pressure', 'platelets_concentration_in_blood', 'serum_creatinine_concentration_in_blood', 'serum_sodium_concentration_in_blood', 'is_male', 'is_smoker', 'days_in_study', 'is_dead'],\n",
       "    num_rows: 299\n",
       "})"
      ]
     },
     "execution_count": 26,
     "metadata": {},
     "output_type": "execute_result"
    }
   ],
   "source": [
    "data = dataset[\"train\"]\n",
    "data"
   ]
  },
  {
   "cell_type": "code",
   "execution_count": 27,
   "id": "bc1afe5e",
   "metadata": {},
   "outputs": [
    {
     "data": {
      "text/plain": [
       "array([75, 55, 65, 50, 65, 90, 75, 60, 65, 80, 75, 62, 45, 50, 49, 82, 87,\n",
       "       45, 70, 48, 65, 65, 68, 53, 75, 80, 95, 70, 58, 82, 94, 85, 50, 50,\n",
       "       65, 69, 90, 82, 60, 60, 70, 50, 70, 72, 60, 50, 51, 60, 80, 57, 68,\n",
       "       53, 60, 70, 60, 95, 70, 60, 49, 72, 45, 50, 55, 45, 45, 60, 42, 72,\n",
       "       70, 65, 41, 58, 85, 65, 69, 60, 70, 42, 75, 55, 70, 67, 60, 79, 59,\n",
       "       51, 55, 65, 44, 57, 70, 60, 42, 60, 58, 58, 63, 70, 60, 63, 65, 75,\n",
       "       80, 42, 60, 72, 55, 45, 63, 45, 85, 55, 50, 70, 60, 58, 60, 85, 65,\n",
       "       86, 60, 66, 60, 60, 60, 43, 46, 58, 61, 53, 53, 60, 46, 63, 81, 75,\n",
       "       65, 68, 62, 50, 80, 46, 50, 61, 72, 50, 52, 64, 75, 60, 72, 62, 50,\n",
       "       50, 65, 60, 52, 50, 85, 59, 66, 45, 63, 50, 45, 80, 53, 59, 65, 70,\n",
       "       51, 52, 70, 50, 65, 60, 69, 49, 63, 55, 40, 59, 65, 75, 58, 60, 50,\n",
       "       60, 60, 40, 80, 64, 50, 73, 45, 77, 45, 65, 50, 60, 63, 45, 70, 60,\n",
       "       78, 50, 40, 85, 60, 49, 70, 50, 78, 48, 65, 73, 70, 54, 68, 55, 73,\n",
       "       65, 42, 47, 58, 75, 58, 55, 65, 72, 60, 70, 40, 53, 53, 77, 75, 70,\n",
       "       65, 55, 70, 65, 40, 73, 54, 61, 55, 64, 40, 53, 50, 55, 50, 70, 53,\n",
       "       52, 65, 58, 45, 53, 55, 62, 65, 68, 61, 50, 55, 56, 45, 40, 44, 51,\n",
       "       67, 42, 60, 45, 70, 70, 50, 55, 70, 70, 42, 65, 50, 55, 60, 45, 65,\n",
       "       90, 45, 60, 52, 63, 62, 55, 45, 45, 50])"
      ]
     },
     "execution_count": 27,
     "metadata": {},
     "output_type": "execute_result"
    }
   ],
   "source": [
    "edades = np.array(data['age'])\n",
    "edades"
   ]
  },
  {
   "cell_type": "code",
   "execution_count": 28,
   "id": "a8fc0099",
   "metadata": {},
   "outputs": [
    {
     "data": {
      "text/plain": [
       "60.82943143812709"
      ]
     },
     "execution_count": 28,
     "metadata": {},
     "output_type": "execute_result"
    }
   ],
   "source": [
    "promedio_edades = np.mean(edades)\n",
    "promedio_edades"
   ]
  },
  {
   "cell_type": "code",
   "execution_count": null,
   "id": "0618b78c",
   "metadata": {},
   "outputs": [],
   "source": []
  }
 ],
 "metadata": {
  "kernelspec": {
   "display_name": "Python 3 (ipykernel)",
   "language": "python",
   "name": "python3"
  },
  "language_info": {
   "codemirror_mode": {
    "name": "ipython",
    "version": 3
   },
   "file_extension": ".py",
   "mimetype": "text/x-python",
   "name": "python",
   "nbconvert_exporter": "python",
   "pygments_lexer": "ipython3",
   "version": "3.10.9"
  }
 },
 "nbformat": 4,
 "nbformat_minor": 5
}
