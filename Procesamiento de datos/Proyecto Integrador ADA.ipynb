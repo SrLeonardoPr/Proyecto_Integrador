{
 "cells": [
  {
   "cell_type": "markdown",
   "id": "ca2b7539",
   "metadata": {},
   "source": [
    "# Proyecto Integrador Procesamiento de Datos. \n",
    "\n",
    "Proyecto Realizado por Jose Leonardo Piñeres Ramirez estudiante de ciencias de datos y machine learning."
   ]
  },
  {
   "cell_type": "markdown",
   "id": "75563b55",
   "metadata": {},
   "source": [
    "# Parte 1: Introducción al análisis de datos\n",
    "El proyecto de este curso consiste en analizar el conjunto de datos introducido en esta sección, procesarlo, limpiarlo y finalmente ajustar modelos de machine learning para realizar predicciones sobre estos datos.\n",
    "\n",
    "Para el desarrollo de esta etapa del proyecto necesitamos intalar la librería datasets de Huggingface\n",
    "\n",
    "pip install datasets\n",
    "Vamos a trabajar con un dataset sobre fallo cardíaco\n",
    "\n",
    "El dataset contiene registros médicos de 299 pacientes que padecieron insuficiencia cardíaca durante un período de seguimiento.\n",
    "\n",
    "Las 13 características clínicas incluidas en el conjunto de datos son:\n",
    "\n",
    "- Edad: edad del paciente (años)\n",
    "- Anemia: disminución de glóbulos rojos o hemoglobina (booleano)\n",
    "- Presión arterial alta: si el paciente tiene hipertensión (booleano)\n",
    "- Creatinina fosfoquinasa (CPK): nivel de la enzima CPK en la sangre (mcg/L)\n",
    "- Diabetes: si el paciente tiene diabetes (booleano)\n",
    "- Fracción de eyección: porcentaje de sangre que sale del corazón en cada contracción (porcentaje)\n",
    "- Plaquetas: plaquetas en la sangre (kiloplaquetas/mL)\n",
    "- Sexo: mujer u hombre (binario)\n",
    "- Creatinina sérica: nivel de creatinina sérica en la sangre (mg/dL)\n",
    "- Sodio sérico: nivel de sodio sérico en la sangre (mEq/L)\n",
    "- Fumar: si el paciente fuma o no (booleano)\n",
    "- Tiempo: período de seguimiento (días)\n",
    "- [Objetivo] Evento de fallecimiento: si el paciente falleció durante el período de seguimiento (booleano)"
   ]
  },
  {
   "cell_type": "code",
   "execution_count": 1,
   "id": "4e387d9f",
   "metadata": {
    "scrolled": true
   },
   "outputs": [
    {
     "name": "stdout",
     "output_type": "stream",
     "text": [
      "Requirement already satisfied: datasets in /Users/leonardopineres/anaconda3/lib/python3.10/site-packages (2.14.6)\n",
      "Requirement already satisfied: numpy>=1.17 in /Users/leonardopineres/anaconda3/lib/python3.10/site-packages (from datasets) (1.23.5)\n",
      "Requirement already satisfied: pyarrow>=8.0.0 in /Users/leonardopineres/anaconda3/lib/python3.10/site-packages (from datasets) (14.0.0)\n",
      "Requirement already satisfied: dill<0.3.8,>=0.3.0 in /Users/leonardopineres/anaconda3/lib/python3.10/site-packages (from datasets) (0.3.7)\n",
      "Requirement already satisfied: pandas in /Users/leonardopineres/anaconda3/lib/python3.10/site-packages (from datasets) (1.5.3)\n",
      "Requirement already satisfied: requests>=2.19.0 in /Users/leonardopineres/anaconda3/lib/python3.10/site-packages (from datasets) (2.28.1)\n",
      "Requirement already satisfied: tqdm>=4.62.1 in /Users/leonardopineres/anaconda3/lib/python3.10/site-packages (from datasets) (4.64.1)\n",
      "Requirement already satisfied: xxhash in /Users/leonardopineres/anaconda3/lib/python3.10/site-packages (from datasets) (3.4.1)\n",
      "Requirement already satisfied: multiprocess in /Users/leonardopineres/anaconda3/lib/python3.10/site-packages (from datasets) (0.70.15)\n",
      "Requirement already satisfied: fsspec<=2023.10.0,>=2023.1.0 in /Users/leonardopineres/anaconda3/lib/python3.10/site-packages (from fsspec[http]<=2023.10.0,>=2023.1.0->datasets) (2023.10.0)\n",
      "Requirement already satisfied: aiohttp in /Users/leonardopineres/anaconda3/lib/python3.10/site-packages (from datasets) (3.8.6)\n",
      "Requirement already satisfied: huggingface-hub<1.0.0,>=0.14.0 in /Users/leonardopineres/anaconda3/lib/python3.10/site-packages (from datasets) (0.18.0)\n",
      "Requirement already satisfied: packaging in /Users/leonardopineres/anaconda3/lib/python3.10/site-packages (from datasets) (23.2)\n",
      "Requirement already satisfied: pyyaml>=5.1 in /Users/leonardopineres/anaconda3/lib/python3.10/site-packages (from datasets) (6.0)\n",
      "Requirement already satisfied: attrs>=17.3.0 in /Users/leonardopineres/anaconda3/lib/python3.10/site-packages (from aiohttp->datasets) (22.1.0)\n",
      "Requirement already satisfied: charset-normalizer<4.0,>=2.0 in /Users/leonardopineres/anaconda3/lib/python3.10/site-packages (from aiohttp->datasets) (2.0.4)\n",
      "Requirement already satisfied: multidict<7.0,>=4.5 in /Users/leonardopineres/anaconda3/lib/python3.10/site-packages (from aiohttp->datasets) (6.0.4)\n",
      "Requirement already satisfied: async-timeout<5.0,>=4.0.0a3 in /Users/leonardopineres/anaconda3/lib/python3.10/site-packages (from aiohttp->datasets) (4.0.3)\n",
      "Requirement already satisfied: yarl<2.0,>=1.0 in /Users/leonardopineres/anaconda3/lib/python3.10/site-packages (from aiohttp->datasets) (1.9.2)\n",
      "Requirement already satisfied: frozenlist>=1.1.1 in /Users/leonardopineres/anaconda3/lib/python3.10/site-packages (from aiohttp->datasets) (1.4.0)\n",
      "Requirement already satisfied: aiosignal>=1.1.2 in /Users/leonardopineres/anaconda3/lib/python3.10/site-packages (from aiohttp->datasets) (1.3.1)\n",
      "Requirement already satisfied: filelock in /Users/leonardopineres/anaconda3/lib/python3.10/site-packages (from huggingface-hub<1.0.0,>=0.14.0->datasets) (3.9.0)\n",
      "Requirement already satisfied: typing-extensions>=3.7.4.3 in /Users/leonardopineres/anaconda3/lib/python3.10/site-packages (from huggingface-hub<1.0.0,>=0.14.0->datasets) (4.7.1)\n",
      "Requirement already satisfied: idna<4,>=2.5 in /Users/leonardopineres/anaconda3/lib/python3.10/site-packages (from requests>=2.19.0->datasets) (3.4)\n",
      "Requirement already satisfied: urllib3<1.27,>=1.21.1 in /Users/leonardopineres/anaconda3/lib/python3.10/site-packages (from requests>=2.19.0->datasets) (1.26.14)\n",
      "Requirement already satisfied: certifi>=2017.4.17 in /Users/leonardopineres/anaconda3/lib/python3.10/site-packages (from requests>=2.19.0->datasets) (2023.5.7)\n",
      "Requirement already satisfied: python-dateutil>=2.8.1 in /Users/leonardopineres/anaconda3/lib/python3.10/site-packages (from pandas->datasets) (2.8.2)\n",
      "Requirement already satisfied: pytz>=2020.1 in /Users/leonardopineres/anaconda3/lib/python3.10/site-packages (from pandas->datasets) (2023.3)\n",
      "Requirement already satisfied: six>=1.5 in /Users/leonardopineres/anaconda3/lib/python3.10/site-packages (from python-dateutil>=2.8.1->pandas->datasets) (1.16.0)\n",
      "\u001b[33mWARNING: There was an error checking the latest version of pip.\u001b[0m\u001b[33m\n",
      "\u001b[0mNote: you may need to restart the kernel to use updated packages.\n"
     ]
    }
   ],
   "source": [
    "pip install datasets\n"
   ]
  },
  {
   "cell_type": "code",
   "execution_count": 2,
   "id": "f7a7f6c9",
   "metadata": {},
   "outputs": [],
   "source": [
    "import pandas as pd\n",
    "import numpy as np"
   ]
  },
  {
   "cell_type": "code",
   "execution_count": 3,
   "id": "dbf8a0b0",
   "metadata": {},
   "outputs": [],
   "source": [
    "from datasets import load_dataset\n",
    "\n",
    "\n",
    "dataset = load_dataset(\"mstz/heart_failure\")"
   ]
  },
  {
   "cell_type": "code",
   "execution_count": 4,
   "id": "19a88f98",
   "metadata": {},
   "outputs": [
    {
     "data": {
      "text/plain": [
       "DatasetDict({\n",
       "    train: Dataset({\n",
       "        features: ['age', 'has_anaemia', 'creatinine_phosphokinase_concentration_in_blood', 'has_diabetes', 'heart_ejection_fraction', 'has_high_blood_pressure', 'platelets_concentration_in_blood', 'serum_creatinine_concentration_in_blood', 'serum_sodium_concentration_in_blood', 'is_male', 'is_smoker', 'days_in_study', 'is_dead'],\n",
       "        num_rows: 299\n",
       "    })\n",
       "})"
      ]
     },
     "execution_count": 4,
     "metadata": {},
     "output_type": "execute_result"
    }
   ],
   "source": [
    "dataset"
   ]
  },
  {
   "cell_type": "code",
   "execution_count": 5,
   "id": "4f9ec04c",
   "metadata": {},
   "outputs": [
    {
     "data": {
      "text/plain": [
       "Dataset({\n",
       "    features: ['age', 'has_anaemia', 'creatinine_phosphokinase_concentration_in_blood', 'has_diabetes', 'heart_ejection_fraction', 'has_high_blood_pressure', 'platelets_concentration_in_blood', 'serum_creatinine_concentration_in_blood', 'serum_sodium_concentration_in_blood', 'is_male', 'is_smoker', 'days_in_study', 'is_dead'],\n",
       "    num_rows: 299\n",
       "})"
      ]
     },
     "execution_count": 5,
     "metadata": {},
     "output_type": "execute_result"
    }
   ],
   "source": [
    "data = dataset[\"train\"]\n",
    "data"
   ]
  },
  {
   "cell_type": "code",
   "execution_count": 6,
   "id": "bc1afe5e",
   "metadata": {},
   "outputs": [
    {
     "data": {
      "text/plain": [
       "array([75, 55, 65, 50, 65, 90, 75, 60, 65, 80, 75, 62, 45, 50, 49, 82, 87,\n",
       "       45, 70, 48, 65, 65, 68, 53, 75, 80, 95, 70, 58, 82, 94, 85, 50, 50,\n",
       "       65, 69, 90, 82, 60, 60, 70, 50, 70, 72, 60, 50, 51, 60, 80, 57, 68,\n",
       "       53, 60, 70, 60, 95, 70, 60, 49, 72, 45, 50, 55, 45, 45, 60, 42, 72,\n",
       "       70, 65, 41, 58, 85, 65, 69, 60, 70, 42, 75, 55, 70, 67, 60, 79, 59,\n",
       "       51, 55, 65, 44, 57, 70, 60, 42, 60, 58, 58, 63, 70, 60, 63, 65, 75,\n",
       "       80, 42, 60, 72, 55, 45, 63, 45, 85, 55, 50, 70, 60, 58, 60, 85, 65,\n",
       "       86, 60, 66, 60, 60, 60, 43, 46, 58, 61, 53, 53, 60, 46, 63, 81, 75,\n",
       "       65, 68, 62, 50, 80, 46, 50, 61, 72, 50, 52, 64, 75, 60, 72, 62, 50,\n",
       "       50, 65, 60, 52, 50, 85, 59, 66, 45, 63, 50, 45, 80, 53, 59, 65, 70,\n",
       "       51, 52, 70, 50, 65, 60, 69, 49, 63, 55, 40, 59, 65, 75, 58, 60, 50,\n",
       "       60, 60, 40, 80, 64, 50, 73, 45, 77, 45, 65, 50, 60, 63, 45, 70, 60,\n",
       "       78, 50, 40, 85, 60, 49, 70, 50, 78, 48, 65, 73, 70, 54, 68, 55, 73,\n",
       "       65, 42, 47, 58, 75, 58, 55, 65, 72, 60, 70, 40, 53, 53, 77, 75, 70,\n",
       "       65, 55, 70, 65, 40, 73, 54, 61, 55, 64, 40, 53, 50, 55, 50, 70, 53,\n",
       "       52, 65, 58, 45, 53, 55, 62, 65, 68, 61, 50, 55, 56, 45, 40, 44, 51,\n",
       "       67, 42, 60, 45, 70, 70, 50, 55, 70, 70, 42, 65, 50, 55, 60, 45, 65,\n",
       "       90, 45, 60, 52, 63, 62, 55, 45, 45, 50])"
      ]
     },
     "execution_count": 6,
     "metadata": {},
     "output_type": "execute_result"
    }
   ],
   "source": [
    "edades = np.array(data['age'])\n",
    "edades"
   ]
  },
  {
   "cell_type": "code",
   "execution_count": 7,
   "id": "a8fc0099",
   "metadata": {},
   "outputs": [
    {
     "data": {
      "text/plain": [
       "60.82943143812709"
      ]
     },
     "execution_count": 7,
     "metadata": {},
     "output_type": "execute_result"
    }
   ],
   "source": [
    "promedio_edades = np.mean(edades)\n",
    "promedio_edades"
   ]
  },
  {
   "cell_type": "markdown",
   "id": "398e2785",
   "metadata": {},
   "source": [
    "# Parte 2: Carga de datos\n",
    "Continuando con la anterior sección del proyecto integrador, ahora debes realizar lo siguiente:\n",
    "\n",
    "- Convertir la estructura Dataset en un DataFrame de Pandas usando pd.DataFrame.\n",
    "- Separar el dataframe en dos diferentes, uno conteniendo las filas con personas que perecieron (is_dead=1) y otro con el complemento.\n",
    "- Calcular los promedios de las edades de cada dataset e imprimir."
   ]
  },
  {
   "cell_type": "code",
   "execution_count": 13,
   "id": "ff74e5d7",
   "metadata": {
    "scrolled": false
   },
   "outputs": [
    {
     "data": {
      "text/html": [
       "<div>\n",
       "<style scoped>\n",
       "    .dataframe tbody tr th:only-of-type {\n",
       "        vertical-align: middle;\n",
       "    }\n",
       "\n",
       "    .dataframe tbody tr th {\n",
       "        vertical-align: top;\n",
       "    }\n",
       "\n",
       "    .dataframe thead th {\n",
       "        text-align: right;\n",
       "    }\n",
       "</style>\n",
       "<table border=\"1\" class=\"dataframe\">\n",
       "  <thead>\n",
       "    <tr style=\"text-align: right;\">\n",
       "      <th></th>\n",
       "      <th>age</th>\n",
       "      <th>has_anaemia</th>\n",
       "      <th>creatinine_phosphokinase_concentration_in_blood</th>\n",
       "      <th>has_diabetes</th>\n",
       "      <th>heart_ejection_fraction</th>\n",
       "      <th>has_high_blood_pressure</th>\n",
       "      <th>platelets_concentration_in_blood</th>\n",
       "      <th>serum_creatinine_concentration_in_blood</th>\n",
       "      <th>serum_sodium_concentration_in_blood</th>\n",
       "      <th>is_male</th>\n",
       "      <th>is_smoker</th>\n",
       "      <th>days_in_study</th>\n",
       "      <th>is_dead</th>\n",
       "    </tr>\n",
       "  </thead>\n",
       "  <tbody>\n",
       "    <tr>\n",
       "      <th>0</th>\n",
       "      <td>75</td>\n",
       "      <td>False</td>\n",
       "      <td>582.0</td>\n",
       "      <td>False</td>\n",
       "      <td>20.0</td>\n",
       "      <td>True</td>\n",
       "      <td>265000.00</td>\n",
       "      <td>1.9</td>\n",
       "      <td>130.0</td>\n",
       "      <td>True</td>\n",
       "      <td>False</td>\n",
       "      <td>4</td>\n",
       "      <td>1</td>\n",
       "    </tr>\n",
       "    <tr>\n",
       "      <th>1</th>\n",
       "      <td>55</td>\n",
       "      <td>False</td>\n",
       "      <td>7861.0</td>\n",
       "      <td>False</td>\n",
       "      <td>38.0</td>\n",
       "      <td>False</td>\n",
       "      <td>263358.03</td>\n",
       "      <td>1.1</td>\n",
       "      <td>136.0</td>\n",
       "      <td>True</td>\n",
       "      <td>False</td>\n",
       "      <td>6</td>\n",
       "      <td>1</td>\n",
       "    </tr>\n",
       "    <tr>\n",
       "      <th>2</th>\n",
       "      <td>65</td>\n",
       "      <td>False</td>\n",
       "      <td>146.0</td>\n",
       "      <td>False</td>\n",
       "      <td>20.0</td>\n",
       "      <td>False</td>\n",
       "      <td>162000.00</td>\n",
       "      <td>1.3</td>\n",
       "      <td>129.0</td>\n",
       "      <td>True</td>\n",
       "      <td>True</td>\n",
       "      <td>7</td>\n",
       "      <td>1</td>\n",
       "    </tr>\n",
       "    <tr>\n",
       "      <th>3</th>\n",
       "      <td>50</td>\n",
       "      <td>True</td>\n",
       "      <td>111.0</td>\n",
       "      <td>False</td>\n",
       "      <td>20.0</td>\n",
       "      <td>False</td>\n",
       "      <td>210000.00</td>\n",
       "      <td>1.9</td>\n",
       "      <td>137.0</td>\n",
       "      <td>True</td>\n",
       "      <td>False</td>\n",
       "      <td>7</td>\n",
       "      <td>1</td>\n",
       "    </tr>\n",
       "    <tr>\n",
       "      <th>4</th>\n",
       "      <td>65</td>\n",
       "      <td>True</td>\n",
       "      <td>160.0</td>\n",
       "      <td>True</td>\n",
       "      <td>20.0</td>\n",
       "      <td>False</td>\n",
       "      <td>327000.00</td>\n",
       "      <td>2.7</td>\n",
       "      <td>116.0</td>\n",
       "      <td>False</td>\n",
       "      <td>False</td>\n",
       "      <td>8</td>\n",
       "      <td>1</td>\n",
       "    </tr>\n",
       "    <tr>\n",
       "      <th>...</th>\n",
       "      <td>...</td>\n",
       "      <td>...</td>\n",
       "      <td>...</td>\n",
       "      <td>...</td>\n",
       "      <td>...</td>\n",
       "      <td>...</td>\n",
       "      <td>...</td>\n",
       "      <td>...</td>\n",
       "      <td>...</td>\n",
       "      <td>...</td>\n",
       "      <td>...</td>\n",
       "      <td>...</td>\n",
       "      <td>...</td>\n",
       "    </tr>\n",
       "    <tr>\n",
       "      <th>294</th>\n",
       "      <td>62</td>\n",
       "      <td>False</td>\n",
       "      <td>61.0</td>\n",
       "      <td>True</td>\n",
       "      <td>38.0</td>\n",
       "      <td>True</td>\n",
       "      <td>155000.00</td>\n",
       "      <td>1.1</td>\n",
       "      <td>143.0</td>\n",
       "      <td>True</td>\n",
       "      <td>True</td>\n",
       "      <td>270</td>\n",
       "      <td>0</td>\n",
       "    </tr>\n",
       "    <tr>\n",
       "      <th>295</th>\n",
       "      <td>55</td>\n",
       "      <td>False</td>\n",
       "      <td>1820.0</td>\n",
       "      <td>False</td>\n",
       "      <td>38.0</td>\n",
       "      <td>False</td>\n",
       "      <td>270000.00</td>\n",
       "      <td>1.2</td>\n",
       "      <td>139.0</td>\n",
       "      <td>False</td>\n",
       "      <td>False</td>\n",
       "      <td>271</td>\n",
       "      <td>0</td>\n",
       "    </tr>\n",
       "    <tr>\n",
       "      <th>296</th>\n",
       "      <td>45</td>\n",
       "      <td>False</td>\n",
       "      <td>2060.0</td>\n",
       "      <td>True</td>\n",
       "      <td>60.0</td>\n",
       "      <td>False</td>\n",
       "      <td>742000.00</td>\n",
       "      <td>0.8</td>\n",
       "      <td>138.0</td>\n",
       "      <td>False</td>\n",
       "      <td>False</td>\n",
       "      <td>278</td>\n",
       "      <td>0</td>\n",
       "    </tr>\n",
       "    <tr>\n",
       "      <th>297</th>\n",
       "      <td>45</td>\n",
       "      <td>False</td>\n",
       "      <td>2413.0</td>\n",
       "      <td>False</td>\n",
       "      <td>38.0</td>\n",
       "      <td>False</td>\n",
       "      <td>140000.00</td>\n",
       "      <td>1.4</td>\n",
       "      <td>140.0</td>\n",
       "      <td>True</td>\n",
       "      <td>True</td>\n",
       "      <td>280</td>\n",
       "      <td>0</td>\n",
       "    </tr>\n",
       "    <tr>\n",
       "      <th>298</th>\n",
       "      <td>50</td>\n",
       "      <td>False</td>\n",
       "      <td>196.0</td>\n",
       "      <td>False</td>\n",
       "      <td>45.0</td>\n",
       "      <td>False</td>\n",
       "      <td>395000.00</td>\n",
       "      <td>1.6</td>\n",
       "      <td>136.0</td>\n",
       "      <td>True</td>\n",
       "      <td>True</td>\n",
       "      <td>285</td>\n",
       "      <td>0</td>\n",
       "    </tr>\n",
       "  </tbody>\n",
       "</table>\n",
       "<p>299 rows × 13 columns</p>\n",
       "</div>"
      ],
      "text/plain": [
       "     age  has_anaemia  creatinine_phosphokinase_concentration_in_blood  \\\n",
       "0     75        False                                            582.0   \n",
       "1     55        False                                           7861.0   \n",
       "2     65        False                                            146.0   \n",
       "3     50         True                                            111.0   \n",
       "4     65         True                                            160.0   \n",
       "..   ...          ...                                              ...   \n",
       "294   62        False                                             61.0   \n",
       "295   55        False                                           1820.0   \n",
       "296   45        False                                           2060.0   \n",
       "297   45        False                                           2413.0   \n",
       "298   50        False                                            196.0   \n",
       "\n",
       "     has_diabetes  heart_ejection_fraction  has_high_blood_pressure  \\\n",
       "0           False                     20.0                     True   \n",
       "1           False                     38.0                    False   \n",
       "2           False                     20.0                    False   \n",
       "3           False                     20.0                    False   \n",
       "4            True                     20.0                    False   \n",
       "..            ...                      ...                      ...   \n",
       "294          True                     38.0                     True   \n",
       "295         False                     38.0                    False   \n",
       "296          True                     60.0                    False   \n",
       "297         False                     38.0                    False   \n",
       "298         False                     45.0                    False   \n",
       "\n",
       "     platelets_concentration_in_blood  \\\n",
       "0                           265000.00   \n",
       "1                           263358.03   \n",
       "2                           162000.00   \n",
       "3                           210000.00   \n",
       "4                           327000.00   \n",
       "..                                ...   \n",
       "294                         155000.00   \n",
       "295                         270000.00   \n",
       "296                         742000.00   \n",
       "297                         140000.00   \n",
       "298                         395000.00   \n",
       "\n",
       "     serum_creatinine_concentration_in_blood  \\\n",
       "0                                        1.9   \n",
       "1                                        1.1   \n",
       "2                                        1.3   \n",
       "3                                        1.9   \n",
       "4                                        2.7   \n",
       "..                                       ...   \n",
       "294                                      1.1   \n",
       "295                                      1.2   \n",
       "296                                      0.8   \n",
       "297                                      1.4   \n",
       "298                                      1.6   \n",
       "\n",
       "     serum_sodium_concentration_in_blood  is_male  is_smoker  days_in_study  \\\n",
       "0                                  130.0     True      False              4   \n",
       "1                                  136.0     True      False              6   \n",
       "2                                  129.0     True       True              7   \n",
       "3                                  137.0     True      False              7   \n",
       "4                                  116.0    False      False              8   \n",
       "..                                   ...      ...        ...            ...   \n",
       "294                                143.0     True       True            270   \n",
       "295                                139.0    False      False            271   \n",
       "296                                138.0    False      False            278   \n",
       "297                                140.0     True       True            280   \n",
       "298                                136.0     True       True            285   \n",
       "\n",
       "     is_dead  \n",
       "0          1  \n",
       "1          1  \n",
       "2          1  \n",
       "3          1  \n",
       "4          1  \n",
       "..       ...  \n",
       "294        0  \n",
       "295        0  \n",
       "296        0  \n",
       "297        0  \n",
       "298        0  \n",
       "\n",
       "[299 rows x 13 columns]"
      ]
     },
     "execution_count": 13,
     "metadata": {},
     "output_type": "execute_result"
    }
   ],
   "source": [
    "# Paso 1: Convertir la estructura Dataset en un DataFrame de Pandas\n",
    "df = pd.DataFrame(data)\n",
    "df"
   ]
  },
  {
   "cell_type": "code",
   "execution_count": 15,
   "id": "94d6089e",
   "metadata": {},
   "outputs": [],
   "source": [
    "# Paso 2: Separar el DataFrame en dos (perecieron y el complemento)\n",
    "df_perecieron = df[df['is_dead'] == 1]\n",
    "df_no_perecieron = df[df['is_dead'] == 0]"
   ]
  },
  {
   "cell_type": "code",
   "execution_count": 16,
   "id": "3c7606b0",
   "metadata": {},
   "outputs": [],
   "source": [
    "# Paso 3: Calcular los promedios de las edades de cada dataset\n",
    "promedio_edad_perecieron = np.mean(df_perecieron['age'])\n",
    "promedio_edad_no_perecieron = np.mean(df_no_perecieron['age'])\n"
   ]
  },
  {
   "cell_type": "code",
   "execution_count": 35,
   "id": "4ae3e945",
   "metadata": {},
   "outputs": [
    {
     "name": "stdout",
     "output_type": "stream",
     "text": [
      "Promedio de edad de personas que murieron:\n"
     ]
    },
    {
     "data": {
      "text/plain": [
       "65.20833333333333"
      ]
     },
     "execution_count": 35,
     "metadata": {},
     "output_type": "execute_result"
    }
   ],
   "source": [
    "# Paso 4: Imprimir los resultados\n",
    "print('Promedio de edad de personas que murieron:')\n",
    "promedio_edad_perecieron\n"
   ]
  },
  {
   "cell_type": "code",
   "execution_count": 37,
   "id": "a7bb8dd8",
   "metadata": {},
   "outputs": [
    {
     "name": "stdout",
     "output_type": "stream",
     "text": [
      "Promedio de edad de personas que no murieron:\n"
     ]
    },
    {
     "data": {
      "text/plain": [
       "58.758620689655174"
      ]
     },
     "execution_count": 37,
     "metadata": {},
     "output_type": "execute_result"
    }
   ],
   "source": [
    "print('Promedio de edad de personas que no murieron:')\n",
    "promedio_edad_no_perecieron"
   ]
  },
  {
   "cell_type": "markdown",
   "id": "1bd7becf",
   "metadata": {},
   "source": [
    "# Parte 3: Calculando analíticas simples\n",
    "Continuando con el DataFrame con todos los datos de la anterior subsección, ahora debes:\n",
    "\n",
    "- Verificar que los tipos de datos son correctos en cada colúmna (por ejemplo que no existan colúmnas numéricas en formato de cadena).\n",
    "- Calcular la cantidad de hombres fumadores vs mujeres fumadoras (usando agregaciones en Pandas)."
   ]
  },
  {
   "cell_type": "code",
   "execution_count": 46,
   "id": "3915f42b",
   "metadata": {},
   "outputs": [
    {
     "data": {
      "text/plain": [
       "age                                                  int64\n",
       "has_anaemia                                           bool\n",
       "creatinine_phosphokinase_concentration_in_blood    float64\n",
       "has_diabetes                                          bool\n",
       "heart_ejection_fraction                            float64\n",
       "has_high_blood_pressure                               bool\n",
       "platelets_concentration_in_blood                   float64\n",
       "serum_creatinine_concentration_in_blood            float64\n",
       "serum_sodium_concentration_in_blood                float64\n",
       "is_male                                               bool\n",
       "is_smoker                                             bool\n",
       "days_in_study                                        int64\n",
       "is_dead                                              int64\n",
       "dtype: object"
      ]
     },
     "execution_count": 46,
     "metadata": {},
     "output_type": "execute_result"
    }
   ],
   "source": [
    "# Asegurémonos de que los tipos de datos son los correctos\n",
    "df.dtypes"
   ]
  },
  {
   "cell_type": "code",
   "execution_count": 44,
   "id": "fba9a2e2",
   "metadata": {},
   "outputs": [
    {
     "name": "stdout",
     "output_type": "stream",
     "text": [
      "<class 'pandas.core.frame.DataFrame'>\n",
      "RangeIndex: 299 entries, 0 to 298\n",
      "Data columns (total 13 columns):\n",
      " #   Column                                           Non-Null Count  Dtype  \n",
      "---  ------                                           --------------  -----  \n",
      " 0   age                                              299 non-null    int64  \n",
      " 1   has_anaemia                                      299 non-null    bool   \n",
      " 2   creatinine_phosphokinase_concentration_in_blood  299 non-null    float64\n",
      " 3   has_diabetes                                     299 non-null    bool   \n",
      " 4   heart_ejection_fraction                          299 non-null    float64\n",
      " 5   has_high_blood_pressure                          299 non-null    bool   \n",
      " 6   platelets_concentration_in_blood                 299 non-null    float64\n",
      " 7   serum_creatinine_concentration_in_blood          299 non-null    float64\n",
      " 8   serum_sodium_concentration_in_blood              299 non-null    float64\n",
      " 9   is_male                                          299 non-null    bool   \n",
      " 10  is_smoker                                        299 non-null    bool   \n",
      " 11  days_in_study                                    299 non-null    int64  \n",
      " 12  is_dead                                          299 non-null    int64  \n",
      "dtypes: bool(5), float64(5), int64(3)\n",
      "memory usage: 20.3 KB\n"
     ]
    }
   ],
   "source": [
    "# O tambien se utiliza\n",
    "df.info()"
   ]
  },
  {
   "cell_type": "code",
   "execution_count": 42,
   "id": "b0091e3c",
   "metadata": {},
   "outputs": [],
   "source": [
    "#Esta utilima me gusta mas porque se puede ver mucho mejor los datos y conocer la integridad de los mismo"
   ]
  },
  {
   "cell_type": "code",
   "execution_count": 48,
   "id": "c8943a7c",
   "metadata": {},
   "outputs": [],
   "source": [
    "# Filtrar el DataFrame para obtener solo los datos de fumadores\n",
    "df_fumadores = df[df['is_smoker'] == 1]\n",
    "\n",
    "# Usar agregaciones en Pandas para contar la cantidad de hombres y mujeres fumadoras\n",
    "cantidad_hombres_fumadores = df_fumadores[df_fumadores['is_male'] == 1].shape[0]\n",
    "cantidad_mujeres_fumadoras = df_fumadores[df_fumadores['is_male'] == 0].shape[0]"
   ]
  },
  {
   "cell_type": "code",
   "execution_count": 49,
   "id": "9ea999c5",
   "metadata": {},
   "outputs": [
    {
     "name": "stdout",
     "output_type": "stream",
     "text": [
      "Cantidad de hombres fumadores: 92\n",
      "Cantidad de mujeres fumadoras: 4\n"
     ]
    }
   ],
   "source": [
    "# Imprimir los resultados\n",
    "print(f\"Cantidad de hombres fumadores: {cantidad_hombres_fumadores}\")\n",
    "print(f\"Cantidad de mujeres fumadoras: {cantidad_mujeres_fumadoras}\")"
   ]
  },
  {
   "cell_type": "code",
   "execution_count": null,
   "id": "289332f4",
   "metadata": {},
   "outputs": [],
   "source": []
  },
  {
   "cell_type": "code",
   "execution_count": null,
   "id": "bb34b2aa",
   "metadata": {},
   "outputs": [],
   "source": []
  }
 ],
 "metadata": {
  "kernelspec": {
   "display_name": "Python 3 (ipykernel)",
   "language": "python",
   "name": "python3"
  },
  "language_info": {
   "codemirror_mode": {
    "name": "ipython",
    "version": 3
   },
   "file_extension": ".py",
   "mimetype": "text/x-python",
   "name": "python",
   "nbconvert_exporter": "python",
   "pygments_lexer": "ipython3",
   "version": "3.10.9"
  }
 },
 "nbformat": 4,
 "nbformat_minor": 5
}
